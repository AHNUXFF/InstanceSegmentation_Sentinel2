{
 "cells": [
  {
   "cell_type": "markdown",
   "metadata": {},
   "source": [
    "# Preprocessing"
   ]
  },
  {
   "cell_type": "markdown",
   "metadata": {},
   "source": [
    "- The LPIS field parcel data (geometries and class labels) are cleaned and preprocssed by a geopandas pipeline.\n",
    "- The RGB-Sentinel-2 imagery is cut to small 128x128-pixel image chips. \n",
    "- The preprocessed LPIS data is clipped to matching chip geometries and saved in COCO annotation format. "
   ]
  },
  {
   "cell_type": "markdown",
   "metadata": {},
   "source": [
    "This repository only contains data for a small subset of the full Denmark region of interest for demonstration purposes. Imagery and geometry data for the full roi would take up several gigabytes. The full 2016 LPIS \"marker\" dataset set can be downloaded here:\n",
    "https://kortdata.fvm.dk/download/Markblokke_Marker?page=MarkerHistoriske\n",
    "\n",
    "![Subset roi](msc_codeshare/test_aoi_subset.png)"
   ]
  },
  {
   "cell_type": "code",
   "execution_count": 1,
   "metadata": {
    "ExecuteTime": {
     "end_time": "2018-12-10T21:55:33.096288Z",
     "start_time": "2018-12-10T21:55:23.492022Z"
    }
   },
   "outputs": [
    {
     "name": "stderr",
     "output_type": "stream",
     "text": [
      "C:\\Anaconda3\\envs\\geo_py37\\lib\\site-packages\\ipykernel\\parentpoller.py:116: UserWarning: Parent poll failed.  If the frontend dies,\n",
      "                the kernel may be left running.  Please let us know\n",
      "                about your system (bitness, Python, etc.) at\n",
      "                ipython-dev@scipy.org\n",
      "  ipython-dev@scipy.org\"\"\")\n"
     ]
    }
   ],
   "source": [
    "%load_ext autoreload\n",
    "%autoreload 2\n",
    "%matplotlib inline\n",
    "\n",
    "from pathlib import Path\n",
    "\n",
    "import utils\n",
    "from utils.other import new_save, load_saved, load_or_new_save\n",
    "import matplotlib.pyplot as plt\n",
    "import numpy as np\n",
    "import geopandas as gpd\n",
    "import rasterio\n",
    "import shapely\n",
    "import pprint"
   ]
  },
  {
   "cell_type": "code",
   "execution_count": 2,
   "metadata": {
    "ExecuteTime": {
     "end_time": "2018-12-10T21:55:33.276130Z",
     "start_time": "2018-12-10T21:55:33.100131Z"
    }
   },
   "outputs": [],
   "source": [
    "fp_s2 = Path(r'data\\RGB_small.tif')\n",
    "fp_fields = Path(r'data\\marker_small.shp')"
   ]
  },
  {
   "cell_type": "markdown",
   "metadata": {},
   "source": [
    "### Vector preparation "
   ]
  },
  {
   "cell_type": "code",
   "execution_count": 3,
   "metadata": {
    "ExecuteTime": {
     "end_time": "2018-12-10T21:55:34.449503Z",
     "start_time": "2018-12-10T21:55:33.280130Z"
    }
   },
   "outputs": [
    {
     "name": "stdout",
     "output_type": "stream",
     "text": [
      "Loading from pickle file... prepared_vector.pkl\n",
      "<class 'geopandas.geodataframe.GeoDataFrame'>\n",
      "RangeIndex: 113 entries, 0 to 112\n",
      "Data columns (total 8 columns):\n",
      "journalnr      113 non-null object\n",
      "lc_id          113 non-null int64\n",
      "lc_name        113 non-null object\n",
      "rcl_lc_id      113 non-null int64\n",
      "rcl_lc_name    113 non-null object\n",
      "area_sqm       113 non-null float64\n",
      "fid            113 non-null int32\n",
      "geometry       113 non-null object\n",
      "dtypes: float64(1), int32(1), int64(2), object(4)\n",
      "memory usage: 6.7+ KB\n",
      "df.info() None\n"
     ]
    },
    {
     "data": {
      "text/html": [
       "<div>\n",
       "<style scoped>\n",
       "    .dataframe tbody tr th:only-of-type {\n",
       "        vertical-align: middle;\n",
       "    }\n",
       "\n",
       "    .dataframe tbody tr th {\n",
       "        vertical-align: top;\n",
       "    }\n",
       "\n",
       "    .dataframe thead th {\n",
       "        text-align: right;\n",
       "    }\n",
       "</style>\n",
       "<table border=\"1\" class=\"dataframe\">\n",
       "  <thead>\n",
       "    <tr style=\"text-align: right;\">\n",
       "      <th></th>\n",
       "      <th>journalnr</th>\n",
       "      <th>lc_id</th>\n",
       "      <th>lc_name</th>\n",
       "      <th>rcl_lc_id</th>\n",
       "      <th>rcl_lc_name</th>\n",
       "      <th>area_sqm</th>\n",
       "      <th>fid</th>\n",
       "      <th>geometry</th>\n",
       "    </tr>\n",
       "  </thead>\n",
       "  <tbody>\n",
       "    <tr>\n",
       "      <th>0</th>\n",
       "      <td>16-0036135</td>\n",
       "      <td>30</td>\n",
       "      <td>Ærter</td>\n",
       "      <td>5</td>\n",
       "      <td>other</td>\n",
       "      <td>18409.058038</td>\n",
       "      <td>0</td>\n",
       "      <td>POLYGON ((513952.7684 6243596.0941, 514026.304...</td>\n",
       "    </tr>\n",
       "    <tr>\n",
       "      <th>1</th>\n",
       "      <td>16-0044708</td>\n",
       "      <td>1</td>\n",
       "      <td>Vårbyg</td>\n",
       "      <td>1</td>\n",
       "      <td>springcereal</td>\n",
       "      <td>343798.036407</td>\n",
       "      <td>1</td>\n",
       "      <td>POLYGON ((515394.05 6247182.35, 515511.8944 62...</td>\n",
       "    </tr>\n",
       "    <tr>\n",
       "      <th>2</th>\n",
       "      <td>16-0053716</td>\n",
       "      <td>260</td>\n",
       "      <td>Græs med kløver/lucerne</td>\n",
       "      <td>4</td>\n",
       "      <td>grassland</td>\n",
       "      <td>202990.290354</td>\n",
       "      <td>2</td>\n",
       "      <td>POLYGON ((512418.2498 6244766.2459, 512430.503...</td>\n",
       "    </tr>\n",
       "  </tbody>\n",
       "</table>\n",
       "</div>"
      ],
      "text/plain": [
       "    journalnr  lc_id                  lc_name  rcl_lc_id   rcl_lc_name  \\\n",
       "0  16-0036135     30                    Ærter          5         other   \n",
       "1  16-0044708      1                   Vårbyg          1  springcereal   \n",
       "2  16-0053716    260  Græs med kløver/lucerne          4     grassland   \n",
       "\n",
       "        area_sqm  fid                                           geometry  \n",
       "0   18409.058038    0  POLYGON ((513952.7684 6243596.0941, 514026.304...  \n",
       "1  343798.036407    1  POLYGON ((515394.05 6247182.35, 515511.8944 62...  \n",
       "2  202990.290354    2  POLYGON ((512418.2498 6244766.2459, 512430.503...  "
      ]
     },
     "metadata": {},
     "output_type": "display_data"
    }
   ],
   "source": [
    "# Vector preparation\n",
    "\n",
    "with rasterio.open(fp_s2) as src:\n",
    "    meta = src.meta\n",
    "    bounds = src.bounds\n",
    "\n",
    "def prepare_vector(inpath, meta, bounds):\n",
    "    df = (gpd.read_file(str(inpath), encoding='utf-8')  # contains danish special characters\n",
    "             .rename(columns={'Afgroede': 'lc_name', 'AfgKode': 'lc_id', 'JOURNALNUM': 'journalnr'})\n",
    "             .drop(['GB', 'GEOMETRISK', 'MARKNUMMER'], axis=1)\n",
    "             .pipe(utils.geo.buffer_zero)\n",
    "             .pipe(utils.geo.close_holes)\n",
    "             .pipe(utils.geo.set_crs, 3044)\n",
    "             .to_crs(meta['crs'])\n",
    "             .pipe(utils.geo.clip, clip_poly=shapely.geometry.box(*bounds), explode_mp_=True)\n",
    "             .pipe(utils.geo.reclassify_col, rcl_scheme=utils.geo.reclass_legend, \n",
    "                   col_classlabels='lc_name', col_classids='lc_id', drop_other_classes=True)\n",
    "             .assign(geometry=lambda _df: _df.geometry.simplify(5, preserve_topology=True))\n",
    "             .pipe(utils.geo.buffer_zero)\n",
    "             .assign(area_sqm=lambda _df: _df.geometry.area)\n",
    "             .pipe(utils.geo.reduce_precision, precision=4)\n",
    "             .reset_index(drop=True)\n",
    "             .assign(fid=lambda _df: range(0, len(_df.index)))\n",
    "             .filter(['journalnr', 'lc_id', 'lc_name', 'rcl_lc_id', 'rcl_lc_name', 'area_sqm', \n",
    "                      'fid', 'geometry'])\n",
    "          )\n",
    "    return df\n",
    "\n",
    "\n",
    "df = load_or_new_save(path=Path(r'output\\preprocessed\\prepared_vector.pkl'),\n",
    "                      default_data=prepare_vector,\n",
    "                      callable_args={'inpath': fp_fields, 'meta': meta, 'bounds': bounds})\n",
    "\n",
    "print('df.info()', df.info())\n",
    "display(df.head(3))"
   ]
  },
  {
   "cell_type": "markdown",
   "metadata": {},
   "source": [
    "### Cut chip images & geometries"
   ]
  },
  {
   "cell_type": "code",
   "execution_count": 4,
   "metadata": {
    "ExecuteTime": {
     "end_time": "2018-12-10T21:55:34.722406Z",
     "start_time": "2018-12-10T21:55:34.462406Z"
    }
   },
   "outputs": [
    {
     "name": "stdout",
     "output_type": "stream",
     "text": [
      "Loading from pickle file... cut_chips.pkl\n",
      "len chips_stats 9\n"
     ]
    }
   ],
   "source": [
    "# Cut chip images & geomtries\n",
    "\n",
    "chip_width, chip_height = 128, 128\n",
    "\n",
    "chips_stats = load_or_new_save(path=Path(r'output\\preprocessed\\cut_chips.pkl'),\n",
    "                               default_data=utils.img.cut_chips,\n",
    "                               callable_args={'img_path': fp_s2,\n",
    "                                              'df': df,\n",
    "                                              'chip_width': chip_width,\n",
    "                                              'chip_height': chip_height})\n",
    "\n",
    "print('len chips_stats', len(chips_stats))"
   ]
  },
  {
   "cell_type": "markdown",
   "metadata": {},
   "source": [
    "### Export geomtries as COCOjson"
   ]
  },
  {
   "cell_type": "code",
   "execution_count": 5,
   "metadata": {
    "ExecuteTime": {
     "end_time": "2018-12-10T21:55:34.918410Z",
     "start_time": "2018-12-10T21:55:34.726408Z"
    }
   },
   "outputs": [
    {
     "name": "stdout",
     "output_type": "stream",
     "text": [
      "Loading from json file... train2016.json\n",
      "Loading from json file... val2016.json\n"
     ]
    }
   ],
   "source": [
    "# Export geomtries as COCO annotation format\n",
    "\n",
    "outpath_cocojson_train = Path(r'output\\preprocessed\\annotations\\train2016.json')\n",
    "outpath_cocojson_val = Path(r'output\\preprocessed\\annotations\\val2016.json')\n",
    "\n",
    "if outpath_cocojson_train.exists() and outpath_cocojson_val.exists():\n",
    "    cocojson_train = load_saved(outpath_cocojson_train, file_format='json')\n",
    "    cocojson_val = load_saved(outpath_cocojson_val, file_format='json')\n",
    "else:\n",
    "    train_split, val_split = utils.geo.train_test_split_coco(chips_stats)\n",
    "    stats_train, stats_val = utils.geo.apply_split_coco(chips_stats, train_split, val_split)\n",
    "    cocojson_train = utils.geo.format_cocojson(stats_train, chip_width, chip_height), \n",
    "    cocojson_val = utils.geo.format_cocojson(stats_val, chip_width, chip_height)\n",
    "         \n",
    "    new_save(outpath_cocojson_train, cocojson_train, file_format='json')\n",
    "    new_save(outpath_cocojson_val, cocojson_val, file_format='json')"
   ]
  },
  {
   "cell_type": "markdown",
   "metadata": {},
   "source": [
    "### Statistics"
   ]
  },
  {
   "cell_type": "code",
   "execution_count": 6,
   "metadata": {
    "ExecuteTime": {
     "end_time": "2018-12-10T21:55:35.222407Z",
     "start_time": "2018-12-10T21:55:34.922410Z"
    }
   },
   "outputs": [
    {
     "name": "stdout",
     "output_type": "stream",
     "text": [
      "Loading from json file... statistics.json\n",
      "{'avg_polys_per_chip': 19.0,\n",
      " 'fields per class_before_cut': {'grassland': 40,\n",
      "                                 'maize': 20,\n",
      "                                 'other': 7,\n",
      "                                 'springcereal': 32,\n",
      "                                 'wintercereal': 14},\n",
      " 'nr_chips': 9,\n",
      " 'nr_chips_train': 7,\n",
      " 'nr_chips_val': 2,\n",
      " 'nr_polys': 171,\n",
      " 'nr_polys_train': 123,\n",
      " 'nr_polys_val': 48,\n",
      " 'train_rgb_mean': [94.87407575334821, 106.43259974888393, 117.06084333147321],\n",
      " 'train_rgb_stdn': [27.85198125213727, 15.87354983685378, 13.678598809683056]}\n"
     ]
    }
   ],
   "source": [
    "# Gather chip statistics.\n",
    "\n",
    "def gather_statistics():\n",
    "    return {\n",
    "        'nr_chips': len(chips_stats.keys()),\n",
    "        'nr_chips_train': len(train_split),\n",
    "        'nr_chips_val': len(val_split),\n",
    "        'nr_polys': sum([len(df['chip_df']) for df in chips_stats.values()]),\n",
    "        'avg_polys_per_chip': sum([len(df['chip_df']) for df in chips_stats.values()]) / len(chips_stats.keys()),\n",
    "        'nr_polys_train': sum([len(df['chip_df']) for df in [chips_stats[key] for key in train_split]]),\n",
    "        'nr_polys_val': sum([len(df['chip_df']) for df in [chips_stats[key] for key in val_split]]),\n",
    "        'train_rgb_mean': list(\n",
    "            np.asarray([df['mean'] for df in [chips_stats[key] for key in train_split]]).mean(axis=0)),\n",
    "        'train_rgb_stdn': list(np.asarray([df['std'] for df in [chips_stats[key] for key in val_split]]).mean(axis=0)),\n",
    "        'fields per class_before_cut': df.groupby(['rcl_lc_name']).fid.aggregate(len).sort_values(ascending=False).to_dict(),\n",
    "    }\n",
    "\n",
    "statistics = load_or_new_save(path=Path(r'output\\preprocessed\\statistics.json'),\n",
    "                              default_data=gather_statistics,\n",
    "                              file_format='json')\n",
    "pprint.pprint(statistics)"
   ]
  },
  {
   "cell_type": "markdown",
   "metadata": {},
   "source": [
    "### Visualize preprocessed chip images and COCO annotations"
   ]
  },
  {
   "cell_type": "code",
   "execution_count": 7,
   "metadata": {
    "ExecuteTime": {
     "end_time": "2018-12-10T21:55:44.201638Z",
     "start_time": "2018-12-10T21:55:43.986185Z"
    }
   },
   "outputs": [],
   "source": [
    "in_json = outpath_cocojson_val\n",
    "in_folder = r\"output\\preprocessed\\image_chips\\val2016\""
   ]
  },
  {
   "cell_type": "code",
   "execution_count": 12,
   "metadata": {
    "ExecuteTime": {
     "end_time": "2018-12-10T22:00:45.643384Z",
     "start_time": "2018-12-10T22:00:45.386650Z"
    }
   },
   "outputs": [
    {
     "name": "stdout",
     "output_type": "stream",
     "text": [
      "Loading from json file... val2016.json\n"
     ]
    },
    {
     "data": {
      "text/plain": [
       "{'COCO_val2016_000000100005.jpg': <shapely.geometry.multipolygon.MultiPolygon at 0x18b5df606a0>,\n",
       " 'COCO_val2016_000000100006.jpg': <shapely.geometry.multipolygon.MultiPolygon at 0x18b5df60390>}"
      ]
     },
     "execution_count": 12,
     "metadata": {},
     "output_type": "execute_result"
    }
   ],
   "source": [
    "geometries = utils.coco.coco_to_shapely(in_json, categories=[1])\n",
    "geometries"
   ]
  }
 ],
 "metadata": {
  "kernelspec": {
   "display_name": "Python 3",
   "language": "python",
   "name": "python3"
  },
  "language_info": {
   "codemirror_mode": {
    "name": "ipython",
    "version": 3
   },
   "file_extension": ".py",
   "mimetype": "text/x-python",
   "name": "python",
   "nbconvert_exporter": "python",
   "pygments_lexer": "ipython3",
   "version": "3.7.0"
  },
  "toc": {
   "toc_cell": false,
   "toc_number_sections": true,
   "toc_threshold": 6,
   "toc_window_display": false
  }
 },
 "nbformat": 4,
 "nbformat_minor": 2
}
