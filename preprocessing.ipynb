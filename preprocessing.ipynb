{
 "cells": [
  {
   "cell_type": "markdown",
   "metadata": {},
   "source": [
    "# Preprocessing"
   ]
  },
  {
   "cell_type": "markdown",
   "metadata": {},
   "source": [
    "- The LPIS field parcel data (geometries and class labels) are cleaned and preprocssed by a geopandas pipeline.\n",
    "- The RGB-Sentinel-2 imagery is cut to small 128x128-pixel image chips. \n",
    "- The preprocessed LPIS data is clipped to matching chip geometries and saved in COCO annotation format. "
   ]
  },
  {
   "cell_type": "markdown",
   "metadata": {},
   "source": [
    "This repository only contains data for a small subset of the full Denmark region of interest for demonstration purposes. Imagery and geometry data for the full roi would take up several gigabytes. The full 2016 LPIS \"marker\" dataset set can be downloaded here:\n",
    "https://kortdata.fvm.dk/download/Markblokke_Marker?page=MarkerHistoriske\n",
    "\n",
    "![Subset chip cutting example](msc_codeshare/test_aoi_subset.png)"
   ]
  },
  {
   "cell_type": "code",
   "execution_count": 1,
   "metadata": {
    "ExecuteTime": {
     "end_time": "2018-12-11T00:30:33.968166Z",
     "start_time": "2018-12-11T00:30:31.840140Z"
    }
   },
   "outputs": [],
   "source": [
    "%load_ext autoreload\n",
    "%autoreload 2\n",
    "%matplotlib inline\n",
    "\n",
    "from pathlib import Path\n",
    "\n",
    "import matplotlib.pyplot as plt\n",
    "import numpy as np\n",
    "import geopandas as gpd\n",
    "import rasterio\n",
    "import shapely\n",
    "from PIL import Image as pilimage\n",
    "import pprint\n",
    "\n",
    "import utils\n",
    "from utils.other import new_save, load_saved, load_or_new_save"
   ]
  },
  {
   "cell_type": "code",
   "execution_count": 2,
   "metadata": {
    "ExecuteTime": {
     "end_time": "2018-12-11T00:30:34.164136Z",
     "start_time": "2018-12-11T00:30:33.972137Z"
    }
   },
   "outputs": [],
   "source": [
    "fp_s2 = Path(r'data\\RGB_small.tif')\n",
    "fp_fields = Path(r'data\\marker_small.shp')\n",
    "\n",
    "out = Path(r'output\\preprocessed')"
   ]
  },
  {
   "cell_type": "markdown",
   "metadata": {},
   "source": [
    "### Vector preparation "
   ]
  },
  {
   "cell_type": "code",
   "execution_count": 3,
   "metadata": {
    "ExecuteTime": {
     "end_time": "2018-12-11T00:30:34.580303Z",
     "start_time": "2018-12-11T00:30:34.168137Z"
    }
   },
   "outputs": [
    {
     "name": "stdout",
     "output_type": "stream",
     "text": [
      "Writing new pickle file... prepared_vector.pkl\n",
      "<class 'geopandas.geodataframe.GeoDataFrame'>\n",
      "RangeIndex: 113 entries, 0 to 112\n",
      "Data columns (total 8 columns):\n",
      "journalnr      113 non-null object\n",
      "lc_id          113 non-null int64\n",
      "lc_name        113 non-null object\n",
      "rcl_lc_id      113 non-null int64\n",
      "rcl_lc_name    113 non-null object\n",
      "area_sqm       113 non-null float64\n",
      "fid            113 non-null int32\n",
      "geometry       113 non-null object\n",
      "dtypes: float64(1), int32(1), int64(2), object(4)\n",
      "memory usage: 6.7+ KB\n",
      "df.info() None\n"
     ]
    },
    {
     "data": {
      "text/html": [
       "<div>\n",
       "<style scoped>\n",
       "    .dataframe tbody tr th:only-of-type {\n",
       "        vertical-align: middle;\n",
       "    }\n",
       "\n",
       "    .dataframe tbody tr th {\n",
       "        vertical-align: top;\n",
       "    }\n",
       "\n",
       "    .dataframe thead th {\n",
       "        text-align: right;\n",
       "    }\n",
       "</style>\n",
       "<table border=\"1\" class=\"dataframe\">\n",
       "  <thead>\n",
       "    <tr style=\"text-align: right;\">\n",
       "      <th></th>\n",
       "      <th>journalnr</th>\n",
       "      <th>lc_id</th>\n",
       "      <th>lc_name</th>\n",
       "      <th>rcl_lc_id</th>\n",
       "      <th>rcl_lc_name</th>\n",
       "      <th>area_sqm</th>\n",
       "      <th>fid</th>\n",
       "      <th>geometry</th>\n",
       "    </tr>\n",
       "  </thead>\n",
       "  <tbody>\n",
       "    <tr>\n",
       "      <th>0</th>\n",
       "      <td>16-0036135</td>\n",
       "      <td>30</td>\n",
       "      <td>Ærter</td>\n",
       "      <td>5</td>\n",
       "      <td>other</td>\n",
       "      <td>18409.058038</td>\n",
       "      <td>0</td>\n",
       "      <td>POLYGON ((513952.7684 6243596.0941, 514026.304...</td>\n",
       "    </tr>\n",
       "    <tr>\n",
       "      <th>1</th>\n",
       "      <td>16-0044708</td>\n",
       "      <td>1</td>\n",
       "      <td>Vårbyg</td>\n",
       "      <td>1</td>\n",
       "      <td>springcereal</td>\n",
       "      <td>343798.036407</td>\n",
       "      <td>1</td>\n",
       "      <td>POLYGON ((515394.05 6247182.35, 515511.8944 62...</td>\n",
       "    </tr>\n",
       "    <tr>\n",
       "      <th>2</th>\n",
       "      <td>16-0053716</td>\n",
       "      <td>260</td>\n",
       "      <td>Græs med kløver/lucerne</td>\n",
       "      <td>4</td>\n",
       "      <td>grassland</td>\n",
       "      <td>202990.290354</td>\n",
       "      <td>2</td>\n",
       "      <td>POLYGON ((512418.2498 6244766.2459, 512430.503...</td>\n",
       "    </tr>\n",
       "  </tbody>\n",
       "</table>\n",
       "</div>"
      ],
      "text/plain": [
       "    journalnr  lc_id                  lc_name  rcl_lc_id   rcl_lc_name  \\\n",
       "0  16-0036135     30                    Ærter          5         other   \n",
       "1  16-0044708      1                   Vårbyg          1  springcereal   \n",
       "2  16-0053716    260  Græs med kløver/lucerne          4     grassland   \n",
       "\n",
       "        area_sqm  fid                                           geometry  \n",
       "0   18409.058038    0  POLYGON ((513952.7684 6243596.0941, 514026.304...  \n",
       "1  343798.036407    1  POLYGON ((515394.05 6247182.35, 515511.8944 62...  \n",
       "2  202990.290354    2  POLYGON ((512418.2498 6244766.2459, 512430.503...  "
      ]
     },
     "metadata": {},
     "output_type": "display_data"
    }
   ],
   "source": [
    "# Vector preparation\n",
    "\n",
    "with rasterio.open(fp_s2) as src:\n",
    "    raster_meta = src.meta\n",
    "    raster_bounds = src.bounds\n",
    "\n",
    "def prepare_vector(in_path, out_crs, clipping_bounds):\n",
    "    df = (gpd.read_file(str(in_path), encoding='utf-8')  # contains danish special characters\n",
    "             .rename(columns={'Afgroede': 'lc_name', 'AfgKode': 'lc_id', 'JOURNALNUM': 'journalnr'})\n",
    "             .drop(['GB', 'GEOMETRISK', 'MARKNUMMER'], axis=1)\n",
    "             .pipe(utils.geo.buffer_zero)\n",
    "             .pipe(utils.geo.close_holes)\n",
    "             .pipe(utils.geo.set_crs, 3044)\n",
    "             .to_crs(out_crs)\n",
    "             .pipe(utils.geo.clip, clip_poly=shapely.geometry.box(*clipping_bounds), explode_mp_=True)\n",
    "             .pipe(utils.geo.reclassify_col, rcl_scheme=utils.geo.reclass_legend, \n",
    "                   col_classlabels='lc_name', col_classids='lc_id', drop_other_classes=True)\n",
    "             .assign(geometry=lambda _df: _df.geometry.simplify(5, preserve_topology=True))\n",
    "             .pipe(utils.geo.buffer_zero)\n",
    "             .assign(area_sqm=lambda _df: _df.geometry.area)\n",
    "             .pipe(utils.geo.reduce_precision, precision=4)\n",
    "             .reset_index(drop=True)\n",
    "             .assign(fid=lambda _df: range(0, len(_df.index)))\n",
    "             .filter(['journalnr', 'lc_id', 'lc_name', 'rcl_lc_id', 'rcl_lc_name', \n",
    "                      'area_sqm', 'fid', 'geometry'])\n",
    "          )\n",
    "    return df\n",
    "\n",
    "\n",
    "df = load_or_new_save(path=out / 'prepared_vector.pkl',\n",
    "                      default_data=prepare_vector,\n",
    "                      callable_args={'in_path': fp_fields, \n",
    "                                     'out_crs': raster_meta['crs'], \n",
    "                                     'clipping_bounds': raster_bounds})\n",
    "\n",
    "print('df.info()', df.info())\n",
    "display(df.head(3))"
   ]
  },
  {
   "cell_type": "markdown",
   "metadata": {},
   "source": [
    "### Cut geometries to chips & export as COCO annotations"
   ]
  },
  {
   "cell_type": "code",
   "execution_count": 4,
   "metadata": {},
   "outputs": [],
   "source": [
    "chip_width, chip_height = 128, 128"
   ]
  },
  {
   "cell_type": "code",
   "execution_count": 5,
   "metadata": {
    "ExecuteTime": {
     "end_time": "2018-12-11T00:30:34.768136Z",
     "start_time": "2018-12-11T00:30:34.584136Z"
    }
   },
   "outputs": [
    {
     "name": "stderr",
     "output_type": "stream",
     "text": [
      "9it [00:00, 25.78it/s]\n"
     ]
    },
    {
     "name": "stdout",
     "output_type": "stream",
     "text": [
      "Writing new pickle file... all_chip_dfs.pkl\n",
      "len 9\n"
     ]
    }
   ],
   "source": [
    "# Cut to chip geometries\n",
    "all_chip_dfs = load_or_new_save(path=out / 'all_chip_dfs.pkl',\n",
    "                                default_data=utils.img.cut_chip_geometries,\n",
    "                                callable_args={'vector_df': df,\n",
    "                                               'raster_width': raster_meta['width'],\n",
    "                                               'raster_height': raster_meta['height'],\n",
    "                                               'raster_transform': raster_meta['transform'],\n",
    "                                               'chip_width': chip_width,\n",
    "                                               'chip_height': chip_height})\n",
    "\n",
    "print('len', len(all_chip_dfs))"
   ]
  },
  {
   "cell_type": "code",
   "execution_count": 6,
   "metadata": {
    "ExecuteTime": {
     "end_time": "2018-12-11T00:30:34.984136Z",
     "start_time": "2018-12-11T00:30:34.772136Z"
    }
   },
   "outputs": [
    {
     "name": "stdout",
     "output_type": "stream",
     "text": [
      "Writing new json file... train2016.json\n",
      "Writing new json file... val2016.json\n"
     ]
    }
   ],
   "source": [
    "# Export geomtries as COCO annotation format\n",
    "outpath_train = out / r'annotations\\train2016.json'\n",
    "outpath_val = out / r'annotations\\val2016.json'\n",
    "\n",
    "if outpath_train.exists() and outpath_val.exists():\n",
    "    coco_train = load_saved(outpath_train, file_format='json')\n",
    "    coco_val = load_saved(outpath_val, file_format='json')\n",
    "else:\n",
    "    train_chip_dfs, val_chip_dfs = utils.coco.train_test_split_coco(all_chip_dfs)\n",
    "    \n",
    "    coco_train = utils.coco.format_coco(train_chip_dfs, chip_width, chip_height)\n",
    "    new_save(outpath_train, coco_train, file_format='json')\n",
    "    \n",
    "    coco_val = utils.coco.format_coco(val_chip_dfs, chip_width, chip_height)\n",
    "    new_save(outpath_val, coco_val, file_format='json')"
   ]
  },
  {
   "cell_type": "markdown",
   "metadata": {},
   "source": [
    "### Cut images to chips "
   ]
  },
  {
   "cell_type": "code",
   "execution_count": 9,
   "metadata": {},
   "outputs": [
    {
     "name": "stdout",
     "output_type": "stream",
     "text": [
      "len 9\n"
     ]
    }
   ],
   "source": [
    "# Cut to chip images and write to disk, retrieve chip image statistics\n",
    "\n",
    "chip_windows = [value['chip_window'] for chip_name, value in all_chip_dfs.items()]\n",
    "all_chip_stats = utils.img.cut_chip_images(fp_s2, \n",
    "                                           chip_windows=chip_windows, \n",
    "                                           out_folder=out / r'image_chips\\train2016', \n",
    "                                           bands=[3, 2, 1])\n",
    "\n",
    "utils.coco.move_coco_val_images(val_chips_list = val_chip_dfs.keys(), \n",
    "                                path_train_folder=out / r'image_chips\\train2016')\n",
    "\n",
    "print('len', len(all_chip_stats))"
   ]
  },
  {
   "cell_type": "markdown",
   "metadata": {},
   "source": [
    "### Statistics"
   ]
  },
  {
   "cell_type": "code",
   "execution_count": 6,
   "metadata": {
    "ExecuteTime": {
     "end_time": "2018-12-11T00:30:35.344136Z",
     "start_time": "2018-12-11T00:30:34.988136Z"
    }
   },
   "outputs": [
    {
     "name": "stdout",
     "output_type": "stream",
     "text": [
      "Writing new json file... statistics.json\n",
      "{'avg_polys_per_chip': 19.0,\n",
      " 'fields per class_before_cut': {'grassland': 40,\n",
      "                                 'maize': 20,\n",
      "                                 'other': 7,\n",
      "                                 'springcereal': 32,\n",
      "                                 'wintercereal': 14},\n",
      " 'nr_chips': 9,\n",
      " 'nr_chips_train': 7,\n",
      " 'nr_chips_val': 2,\n",
      " 'nr_polys': 171,\n",
      " 'nr_polys_train': 123,\n",
      " 'nr_polys_val': 48,\n",
      " 'train_rgb_mean': [94.87407575334821, 106.43259974888393, 117.06084333147321],\n",
      " 'train_rgb_stdn': [27.85198125213727, 15.87354983685378, 13.678598809683056]}\n"
     ]
    }
   ],
   "source": [
    "# Gather chip statistics.\n",
    "\n",
    "def gather_statistics():\n",
    "    return {\n",
    "        'nr_chips': len(all_chip_dfs.keys()),\n",
    "        'nr_chips_train': len(train_chip_dfs),\n",
    "        'nr_chips_val': len(val_chip_dfs),\n",
    "        'nr_polys': sum([len(df['chip_df']) for df in all_chip_dfs.values()]),\n",
    "        'nr_polys_train': sum([len(df['chip_df']) for df in train_chip_dfs.values()]),\n",
    "        'nr_polys_val': sum([len(df['chip_df']) for df in val_chip_dfs.values()]),\n",
    "        'avg_polys_per_chip': sum([len(df['chip_df']) for df in all_chip_dfs.values()]) / len(all_chip_dfs.keys()),\n",
    "        'train_rgb_mean': list(np.asarray([df['mean'] for df in [chips_stats[key] for key in train_split]]).mean(axis=0)),\n",
    "        'train_rgb_stdn': list(np.asarray([df['std'] for df in [chips_stats[key] for key in val_split]]).mean(axis=0)),\n",
    "        'fields per class_before_cut': df.groupby(['rcl_lc_name']).fid.aggregate(len).sort_values(ascending=False).to_dict(),\n",
    "    }\n",
    "\n",
    "statistics = load_or_new_save(path=out / 'statistics.json',\n",
    "                              default_data=gather_statistics,\n",
    "                              file_format='json')\n",
    "pprint.pprint(statistics)"
   ]
  },
  {
   "cell_type": "markdown",
   "metadata": {},
   "source": [
    "### Visualize preprocessed chip images and COCO annotations"
   ]
  },
  {
   "cell_type": "code",
   "execution_count": 20,
   "metadata": {},
   "outputs": [
    {
     "data": {
      "text/plain": [
       "WindowsPath('output/preprocessed/annotations/val2016.json')"
      ]
     },
     "execution_count": 20,
     "metadata": {},
     "output_type": "execute_result"
    }
   ],
   "source": [
    "in_json"
   ]
  },
  {
   "cell_type": "code",
   "execution_count": 7,
   "metadata": {
    "ExecuteTime": {
     "end_time": "2018-12-11T00:31:46.358472Z",
     "start_time": "2018-12-11T00:31:46.146469Z"
    }
   },
   "outputs": [],
   "source": [
    "in_json = outpath_cocojson_val\n",
    "in_folder = r\"output\\preprocessed\\image_chips\\val2016\""
   ]
  },
  {
   "cell_type": "code",
   "execution_count": 19,
   "metadata": {
    "ExecuteTime": {
     "end_time": "2018-12-11T00:31:47.222498Z",
     "start_time": "2018-12-11T00:31:46.526469Z"
    }
   },
   "outputs": [
    {
     "ename": "AttributeError",
     "evalue": "module 'utils.viz' has no attribute 'plot_coco'",
     "output_type": "error",
     "traceback": [
      "\u001b[1;31m---------------------------------------------------------------------------\u001b[0m",
      "\u001b[1;31mAttributeError\u001b[0m                            Traceback (most recent call last)",
      "\u001b[1;32m<ipython-input-19-fd554101bef2>\u001b[0m in \u001b[0;36m<module>\u001b[1;34m()\u001b[0m\n\u001b[1;32m----> 1\u001b[1;33m \u001b[0mutils\u001b[0m\u001b[1;33m.\u001b[0m\u001b[0mviz\u001b[0m\u001b[1;33m.\u001b[0m\u001b[0mplot_coco\u001b[0m\u001b[1;33m(\u001b[0m\u001b[0min_json\u001b[0m\u001b[1;33m,\u001b[0m \u001b[0min_folder\u001b[0m\u001b[1;33m)\u001b[0m\u001b[1;33m\u001b[0m\u001b[0m\n\u001b[0m\u001b[0;32m      2\u001b[0m \u001b[1;33m\u001b[0m\u001b[0m\n\u001b[0;32m      3\u001b[0m \u001b[1;33m\u001b[0m\u001b[0m\n\u001b[0;32m      4\u001b[0m \u001b[1;31m# for key in sorted(extracted.keys())[:2]:\u001b[0m\u001b[1;33m\u001b[0m\u001b[1;33m\u001b[0m\u001b[0m\n\u001b[0;32m      5\u001b[0m \u001b[1;31m#     print(key)\u001b[0m\u001b[1;33m\u001b[0m\u001b[1;33m\u001b[0m\u001b[0m\n",
      "\u001b[1;31mAttributeError\u001b[0m: module 'utils.viz' has no attribute 'plot_coco'"
     ]
    }
   ],
   "source": [
    "utils.viz.plot_coco(r'output/preprocessed/annotations/val2016.json', r'output\\preprocessed\\image_chips\\val2016')"
   ]
  },
  {
   "cell_type": "code",
   "execution_count": null,
   "metadata": {},
   "outputs": [],
   "source": []
  }
 ],
 "metadata": {
  "kernelspec": {
   "display_name": "Python 3",
   "language": "python",
   "name": "python3"
  },
  "language_info": {
   "codemirror_mode": {
    "name": "ipython",
    "version": 3
   },
   "file_extension": ".py",
   "mimetype": "text/x-python",
   "name": "python",
   "nbconvert_exporter": "python",
   "pygments_lexer": "ipython3",
   "version": "3.7.0"
  },
  "toc": {
   "toc_cell": false,
   "toc_number_sections": true,
   "toc_threshold": 6,
   "toc_window_display": false
  }
 },
 "nbformat": 4,
 "nbformat_minor": 2
}
