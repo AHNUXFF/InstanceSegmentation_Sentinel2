{
 "cells": [
  {
   "cell_type": "markdown",
   "metadata": {},
   "source": [
    "# Preprocessing"
   ]
  },
  {
   "cell_type": "code",
   "execution_count": 1,
   "metadata": {},
   "outputs": [],
   "source": [
    "%load_ext autoreload\n",
    "%autoreload 2\n",
    "%matplotlib inline\n",
    "\n",
    "from pathlib import Path\n",
    "import numpy as np\n",
    "import random\n",
    "from typing import List, Dict, Tuple\n",
    "\n",
    "import utils\n",
    "from utils.other import new_save, load_saved, load_or_new_save\n",
    "import rasterio\n",
    "import rasterio.plot\n",
    "import geopandas as gpd\n",
    "import shapely\n",
    "from shapely.geometry import Polygon\n",
    "import matplotlib.pyplot as plt\n",
    "import pprint"
   ]
  },
  {
   "cell_type": "markdown",
   "metadata": {},
   "source": [
    "The preprocessing workflow brings the image and geometry data to the COCO format expected by the FCIS model. It cuts the Sentinel-2 images to many small RGB image chips. The LPIS field parcel vectors are clipped to matching chip geometries and saved in COCO json format.   \n",
    "\n",
    "Before the chipping tasks, a geopandas pipeline cleans up lass labels and geometries and clips them to the region of interest defined by the Sentinel-2 scene tiles."
   ]
  },
  {
   "cell_type": "markdown",
   "metadata": {},
   "source": [
    "As imagery and geometry data for the full Denmark roi of the thesis take up several gigabytes in file size, the repository just contains a small subset region for demonstration purposes. The full 2016 LPIS \"marker\" dataset set can be downloaded here:\n",
    "https://kortdata.fvm.dk/download/Markblokke_Marker?page=MarkerHistoriske\n",
    "\n",
    "![Subset roi](msc_codeshare/test_aoi_subset.png)"
   ]
  },
  {
   "cell_type": "code",
   "execution_count": 2,
   "metadata": {},
   "outputs": [],
   "source": [
    "fp_s2 = Path(r'data\\original\\RGB_small_cor.tif')\n",
    "fp_fields = Path(r'data\\original\\marker_small.shp')"
   ]
  },
  {
   "cell_type": "markdown",
   "metadata": {},
   "source": [
    "### Vector preparation "
   ]
  },
  {
   "cell_type": "code",
   "execution_count": 3,
   "metadata": {},
   "outputs": [
    {
     "name": "stdout",
     "output_type": "stream",
     "text": [
      "Loading from pickle file... preprocessed_geo.pkl\n",
      "Writing new pickle file... preprocessed_geo.pkl\n",
      "Writing new pickle file... preprocessed_geo.pkl\n",
      "<class 'geopandas.geodataframe.GeoDataFrame'>\n",
      "RangeIndex: 113 entries, 0 to 112\n",
      "Data columns (total 8 columns):\n",
      "journalnr      113 non-null object\n",
      "lc_id          113 non-null int64\n",
      "lc_name        113 non-null object\n",
      "rcl_lc_id      113 non-null int64\n",
      "rcl_lc_name    113 non-null object\n",
      "area_sqm       113 non-null float64\n",
      "fid            113 non-null int32\n",
      "geometry       113 non-null object\n",
      "dtypes: float64(1), int32(1), int64(2), object(4)\n",
      "memory usage: 6.7+ KB\n",
      "df.info() None\n"
     ]
    },
    {
     "data": {
      "text/html": [
       "<div>\n",
       "<style scoped>\n",
       "    .dataframe tbody tr th:only-of-type {\n",
       "        vertical-align: middle;\n",
       "    }\n",
       "\n",
       "    .dataframe tbody tr th {\n",
       "        vertical-align: top;\n",
       "    }\n",
       "\n",
       "    .dataframe thead th {\n",
       "        text-align: right;\n",
       "    }\n",
       "</style>\n",
       "<table border=\"1\" class=\"dataframe\">\n",
       "  <thead>\n",
       "    <tr style=\"text-align: right;\">\n",
       "      <th></th>\n",
       "      <th>journalnr</th>\n",
       "      <th>lc_id</th>\n",
       "      <th>lc_name</th>\n",
       "      <th>rcl_lc_id</th>\n",
       "      <th>rcl_lc_name</th>\n",
       "      <th>area_sqm</th>\n",
       "      <th>fid</th>\n",
       "      <th>geometry</th>\n",
       "    </tr>\n",
       "  </thead>\n",
       "  <tbody>\n",
       "    <tr>\n",
       "      <th>0</th>\n",
       "      <td>16-0036135</td>\n",
       "      <td>30</td>\n",
       "      <td>Ærter</td>\n",
       "      <td>5</td>\n",
       "      <td>other</td>\n",
       "      <td>18409.058038</td>\n",
       "      <td>0</td>\n",
       "      <td>POLYGON ((513952.7684 6243596.0941, 514026.304...</td>\n",
       "    </tr>\n",
       "    <tr>\n",
       "      <th>1</th>\n",
       "      <td>16-0044708</td>\n",
       "      <td>1</td>\n",
       "      <td>Vårbyg</td>\n",
       "      <td>1</td>\n",
       "      <td>springcereal</td>\n",
       "      <td>343798.036407</td>\n",
       "      <td>1</td>\n",
       "      <td>POLYGON ((515394.05 6247182.35, 515511.8944 62...</td>\n",
       "    </tr>\n",
       "    <tr>\n",
       "      <th>2</th>\n",
       "      <td>16-0053716</td>\n",
       "      <td>260</td>\n",
       "      <td>Græs med kløver/lucerne</td>\n",
       "      <td>4</td>\n",
       "      <td>grassland</td>\n",
       "      <td>202990.290354</td>\n",
       "      <td>2</td>\n",
       "      <td>POLYGON ((512418.2498 6244766.2459, 512430.503...</td>\n",
       "    </tr>\n",
       "  </tbody>\n",
       "</table>\n",
       "</div>"
      ],
      "text/plain": [
       "    journalnr  lc_id                  lc_name  rcl_lc_id   rcl_lc_name  \\\n",
       "0  16-0036135     30                    Ærter          5         other   \n",
       "1  16-0044708      1                   Vårbyg          1  springcereal   \n",
       "2  16-0053716    260  Græs med kløver/lucerne          4     grassland   \n",
       "\n",
       "        area_sqm  fid                                           geometry  \n",
       "0   18409.058038    0  POLYGON ((513952.7684 6243596.0941, 514026.304...  \n",
       "1  343798.036407    1  POLYGON ((515394.05 6247182.35, 515511.8944 62...  \n",
       "2  202990.290354    2  POLYGON ((512418.2498 6244766.2459, 512430.503...  "
      ]
     },
     "metadata": {},
     "output_type": "display_data"
    }
   ],
   "source": [
    "# Vector preparation\n",
    "\n",
    "with rasterio.open(fp_s2) as src:\n",
    "    meta = src.meta\n",
    "    bounds = src.bounds\n",
    "\n",
    "def preprocess_vector(inpath, meta, bounds):\n",
    "    df = (gpd.read_file(str(inpath), encoding='utf-8')  # contains danish special characters\n",
    "             .rename(columns={'Afgroede': 'lc_name', 'AfgKode': 'lc_id', 'JOURNALNUM': 'journalnr'})\n",
    "             .drop(['GB', 'GEOMETRISK', 'MARKNUMMER'], axis=1)\n",
    "             .pipe(utils.geo.buffer_zero)\n",
    "             .pipe(utils.geo.close_holes)\n",
    "             .pipe(utils.geo.set_crs, 3044)\n",
    "             .to_crs(meta['crs'])\n",
    "             .pipe(utils.geo.clip, clip_poly=shapely.geometry.box(*bounds), explode_mp_=True)\n",
    "             .pipe(utils.geo.reclassify_col, rcl_scheme=utils.geo.reclass_legend, \n",
    "                   col_classlabels='lc_name', col_classids='lc_id', drop_other_classes=True)\n",
    "             .assign(geometry=lambda _df: _df.geometry.simplify(5, preserve_topology=True))\n",
    "             .pipe(utils.geo.buffer_zero)\n",
    "             .assign(area_sqm=lambda _df: _df.geometry.area)\n",
    "             .pipe(utils.geo.reduce_precision, precision=4)\n",
    "             .reset_index(drop=True)\n",
    "             .assign(fid=lambda _df: range(0, len(_df.index)))\n",
    "             .filter(['journalnr', 'lc_id', 'lc_name', 'rcl_lc_id', 'rcl_lc_name', 'area_sqm', \n",
    "                      'fid', 'geometry'])\n",
    "          )\n",
    "    return df\n",
    "\n",
    "\n",
    "df = load_or_new_save(path=Path(r'output\\preprocessed\\preprocessed_geo.pkl'),\n",
    "                      default_data=preprocess_vector,\n",
    "                      callable_args={'inpath': fp_fields, 'meta': meta, 'bounds': bounds})\n",
    "\n",
    "print('df.info()', df.info())\n",
    "display(df.head(3))"
   ]
  },
  {
   "cell_type": "markdown",
   "metadata": {},
   "source": [
    "### Cut chip images & geometries"
   ]
  },
  {
   "cell_type": "code",
   "execution_count": 4,
   "metadata": {},
   "outputs": [
    {
     "name": "stdout",
     "output_type": "stream",
     "text": [
      "Loading from pickle file... chips_stats.pkl\n"
     ]
    },
    {
     "name": "stderr",
     "output_type": "stream",
     "text": [
      "9it [00:01,  7.93it/s]\n"
     ]
    },
    {
     "name": "stdout",
     "output_type": "stream",
     "text": [
      "Writing new pickle file... chips_stats.pkl\n",
      "Writing new pickle file... chips_stats.pkl\n",
      "len chips_stats 9\n"
     ]
    }
   ],
   "source": [
    "# Cut chip images & geomtries\n",
    "\n",
    "chip_width, chip_height = 128, 128\n",
    "\n",
    "chips_stats = load_or_new_save(path=Path(r'output\\preprocessed\\chips_stats.pkl'),\n",
    "                               default_data=utils.img.cut_chips,\n",
    "                               callable_args={'img_path': fp_s2,\n",
    "                                              'df': df,\n",
    "                                              'chip_width': chip_width,\n",
    "                                              'chip_height': chip_height})\n",
    "\n",
    "print('len chips_stats', len(chips_stats))"
   ]
  },
  {
   "cell_type": "markdown",
   "metadata": {},
   "source": [
    "### Export geomtries as COCOjson"
   ]
  },
  {
   "cell_type": "code",
   "execution_count": 5,
   "metadata": {},
   "outputs": [
    {
     "name": "stdout",
     "output_type": "stream",
     "text": [
      "Writing new json file... train2014.json\n",
      "Writing new json file... val2014.json\n"
     ]
    }
   ],
   "source": [
    "# Export geomtries as COCOjson\n",
    "\n",
    "outpath_cocojson_train = Path(r'output\\preprocessed\\chips\\train2014.json')\n",
    "outpath_cocojson_val = Path(r'output\\preprocessed\\chips\\val2014.json')\n",
    "\n",
    "if outpath_cocojson_train.exists() and outpath_cocojson_val.exists():\n",
    "    cocojson_train = load_saved(outpath_cocojson_train, file_format='json')\n",
    "    cocojson_val = load_saved(outpath_cocojson_val, file_format='json')\n",
    "else:\n",
    "    train_split, val_split = utils.geo.train_test_split_coco(chips_stats)\n",
    "    stats_train, stats_val = utils.geo.apply_split_coco(chips_stats, train_split, val_split)\n",
    "    cocojson_train = utils.geo.format_cocojson(stats_train, chip_width, chip_height), \n",
    "    cocojson_val = utils.geo.format_cocojson(stats_val, chip_width, chip_height)\n",
    "         \n",
    "    new_save(outpath_cocojson_train, cocojson_train, file_format='json')\n",
    "    new_save(outpath_cocojson_val, cocojson_val, file_format='json')"
   ]
  },
  {
   "cell_type": "code",
   "execution_count": 30,
   "metadata": {},
   "outputs": [
    {
     "name": "stdout",
     "output_type": "stream",
     "text": [
      "Writing new json file... statistics.json\n",
      "{'avg_polys_per_chip': 19.0,\n",
      " 'fields per class_before_cut': {'grassland': 40,\n",
      "                                 'maize': 20,\n",
      "                                 'other': 7,\n",
      "                                 'springcereal': 32,\n",
      "                                 'wintercereal': 14},\n",
      " 'nr_chips': 9,\n",
      " 'nr_chips_train': 7,\n",
      " 'nr_chips_val': 2,\n",
      " 'nr_polys': 171,\n",
      " 'nr_polys_train': 123,\n",
      " 'nr_polys_val': 48,\n",
      " 'train_rgb_mean': [94.87407575334821, 106.43259974888393, 117.06084333147321],\n",
      " 'train_rgb_stdn': [27.85198125213727, 15.87354983685378, 13.678598809683056]}\n"
     ]
    }
   ],
   "source": [
    "# Gather chip statistics.\n",
    "\n",
    "def get_statistics():\n",
    "    return {\n",
    "        'nr_chips': len(chips_stats.keys()),\n",
    "        'nr_chips_train': len(train_split),\n",
    "        'nr_chips_val': len(val_split),\n",
    "        'nr_polys': sum([len(df['chip_df']) for df in chips_stats.values()]),\n",
    "        'avg_polys_per_chip': sum([len(df['chip_df']) for df in chips_stats.values()]) / len(chips_stats.keys()),\n",
    "        'nr_polys_train': sum([len(df['chip_df']) for df in [chips_stats[key] for key in train_split]]),\n",
    "        'nr_polys_val': sum([len(df['chip_df']) for df in [chips_stats[key] for key in val_split]]),\n",
    "        'train_rgb_mean': list(\n",
    "            np.asarray([df['mean'] for df in [chips_stats[key] for key in train_split]]).mean(axis=0)),\n",
    "        'train_rgb_stdn': list(np.asarray([df['std'] for df in [chips_stats[key] for key in val_split]]).mean(axis=0)),\n",
    "        'fields per class_before_cut': df.groupby(['rcl_lc_name']).fid.aggregate(len).sort_values(ascending=False).to_dict(),\n",
    "    }\n",
    "\n",
    "statistics = load_or_new_save(path=Path(r'output\\preprocessed\\statistics.json'),\n",
    "                              default_data=get_statistics,\n",
    "                              file_format='json')\n",
    "pprint.pprint(statistics)"
   ]
  },
  {
   "cell_type": "code",
   "execution_count": null,
   "metadata": {},
   "outputs": [],
   "source": []
  }
 ],
 "metadata": {
  "kernelspec": {
   "display_name": "Python 3",
   "language": "python",
   "name": "python3"
  },
  "language_info": {
   "codemirror_mode": {
    "name": "ipython",
    "version": 3
   },
   "file_extension": ".py",
   "mimetype": "text/x-python",
   "name": "python",
   "nbconvert_exporter": "python",
   "pygments_lexer": "ipython3",
   "version": "3.6.5"
  }
 },
 "nbformat": 4,
 "nbformat_minor": 2
}
